{
  "nbformat": 4,
  "nbformat_minor": 0,
  "metadata": {
    "kernelspec": {
      "display_name": "Python 3",
      "language": "python",
      "name": "python3"
    },
    "language_info": {
      "codemirror_mode": {
        "name": "ipython",
        "version": 3
      },
      "file_extension": ".py",
      "mimetype": "text/x-python",
      "name": "python",
      "nbconvert_exporter": "python",
      "pygments_lexer": "ipython3",
      "version": "3.7.9"
    },
    "colab": {
      "name": "chekhonina_hw1.ipynb",
      "provenance": [],
      "collapsed_sections": []
    }
  },
  "cells": [
    {
      "cell_type": "markdown",
      "metadata": {
        "id": "BA068cHDL4FR"
      },
      "source": [
        "**Общая информация**\n",
        "\n",
        "**Срок сдачи:** 21 октября 2020, 08:30 \n",
        "\n",
        "**Штраф за опоздание:** по 1 баллу за 24 часа задержки. Через 5 дней домашнее задание сгорает.\n",
        "\n",
        "При отправлении ДЗ указывайте фамилию в названии файла\n",
        "Присылать ДЗ необходимо в виде ссылки на свой github репозиторий на почту ml1.sphere@mail.ru с указанием темы в следующем формате:\n",
        "\n",
        "[ML0220, Задание 1] Фамилия Имя.\n",
        "\n",
        "Используйте данный Ipython Notebook при оформлении домашнего задания."
      ]
    },
    {
      "cell_type": "markdown",
      "metadata": {
        "id": "MdkzUXAJL4FS"
      },
      "source": [
        "\n",
        "**Штрафные баллы:**\n",
        "\n",
        "1. Отсутствие фамилии в имени скрипта (скрипт должен называться по аналогии со stroykova_hw1.ipynb) -0.5 баллов\n",
        "2. Все строчки должны быть выполнены. Нужно, чтобы output команды можно было увидеть уже в git'е. В противном случае -0.5 баллов\n"
      ]
    },
    {
      "cell_type": "code",
      "metadata": {
        "id": "fH1JS_EeL4FS"
      },
      "source": [
        "import numpy as np\n",
        "import matplotlib.pyplot as plt\n",
        "\n",
        "import seaborn as sns\n",
        "from sklearn import datasets\n",
        "from sklearn.base import BaseEstimator\n",
        "from sklearn.datasets import fetch_20newsgroups\n",
        "\n",
        "from sklearn.model_selection import train_test_split\n",
        "from sklearn.neighbors import KNeighborsClassifier\n",
        "from sklearn.metrics import accuracy_score, pairwise_distances\n",
        "\n",
        "from scipy.spatial.distance import cdist\n",
        "from scipy.stats import mode\n",
        "from sklearn.neighbors import KDTree\n",
        "\n",
        "import matplotlib.pyplot as plt\n",
        "%matplotlib inline"
      ],
      "execution_count": 1,
      "outputs": []
    },
    {
      "cell_type": "markdown",
      "metadata": {
        "id": "JXWCPBBUL4FV"
      },
      "source": [
        "##### Задание 1 (1 балл)\n",
        "Реализовать KNN в классе MyKNeighborsClassifier (обязательное условие: точность не ниже sklearn реализации)\n",
        "Разберитесь самостоятельно, какая мера расстояния используется в KNeighborsClassifier дефолтно и реализуйте свой алгоритм именно с этой мерой. \n",
        "Для подсчета расстояний можно использовать функции [отсюда](https://docs.scipy.org/doc/scipy/reference/spatial.distance.html)"
      ]
    },
    {
      "cell_type": "code",
      "metadata": {
        "id": "Xte6OrTJL4FV"
      },
      "source": [
        "class MyKNeighborsClassifier(BaseEstimator):\n",
        "    \n",
        "    def __init__(self, n_neighbors, algorithm='brute', metric=\"euclidean\"):\n",
        "        self.n_neighbors = n_neighbors\n",
        "        self.metric = metric\n",
        "        self.algorithm = algorithm\n",
        "            \n",
        "    def fit(self, X, y):\n",
        "        if self.algorithm == 'brute':\n",
        "            self.X_train = X.copy()\n",
        "        elif self.algorithm == 'kd_tree':\n",
        "            self.Tree = KDTree(X, leaf_size=2, metric=self.metric)\n",
        "        self.Y_train = y.copy()\n",
        "    \n",
        "    def predict(self, X):\n",
        "        if self.algorithm == 'brute':\n",
        "            DistMatr = pairwise_distances(X, self.X_train, self.metric) # в KNeighborsClassifier используется метрика Минковского \n",
        "            indices = np.argpartition(DistMatr, self.n_neighbors, axis=1)[:,:self.n_neighbors] #с параметром p = 2, это есть евклидова метрика\n",
        "        elif self.algorithm == 'kd_tree':\n",
        "            _, indices = self.Tree.query(X, k=self.n_neighbors)\n",
        "        Y_train_reduce = np.take(self.Y_train, indices) \n",
        "        Y_pred = mode(Y_train_reduce, axis=1)[0].ravel()\n",
        "        return Y_pred\n",
        "            \n",
        "    "
      ],
      "execution_count": 2,
      "outputs": []
    },
    {
      "cell_type": "markdown",
      "metadata": {
        "id": "GPGbzy78L4FX"
      },
      "source": [
        "**IRIS**\n",
        "\n",
        "В библиотеке scikit-learn есть несколько датасетов из коробки. Один из них [Ирисы Фишера](https://ru.wikipedia.org/wiki/%D0%98%D1%80%D0%B8%D1%81%D1%8B_%D0%A4%D0%B8%D1%88%D0%B5%D1%80%D0%B0)"
      ]
    },
    {
      "cell_type": "code",
      "metadata": {
        "id": "lgEzXstmL4FY"
      },
      "source": [
        "iris = datasets.load_iris()"
      ],
      "execution_count": 3,
      "outputs": []
    },
    {
      "cell_type": "code",
      "metadata": {
        "id": "SssCXahYL4Fa"
      },
      "source": [
        "X_train, X_test, y_train, y_test = train_test_split(iris.data, iris.target, test_size=0.1, stratify=iris.target)"
      ],
      "execution_count": 4,
      "outputs": []
    },
    {
      "cell_type": "code",
      "metadata": {
        "id": "9W46-kvJL4Fb"
      },
      "source": [
        "clf = KNeighborsClassifier(n_neighbors=2, algorithm='brute')\n",
        "my_clf = MyKNeighborsClassifier(n_neighbors=2, algorithm='brute')"
      ],
      "execution_count": 5,
      "outputs": []
    },
    {
      "cell_type": "code",
      "metadata": {
        "id": "f5bbYpz2L4Fe"
      },
      "source": [
        "clf.fit(X_train, y_train)\n",
        "my_clf.fit(X_train, y_train)"
      ],
      "execution_count": 6,
      "outputs": []
    },
    {
      "cell_type": "code",
      "metadata": {
        "id": "Is-s-bCbL4Fg"
      },
      "source": [
        "sklearn_pred = clf.predict(X_test)\n",
        "my_clf_pred = my_clf.predict(X_test)\n",
        "assert abs( accuracy_score(y_test, my_clf_pred) -  accuracy_score(y_test, sklearn_pred ) )<0.005, \"Score must be simillar\""
      ],
      "execution_count": 7,
      "outputs": []
    },
    {
      "cell_type": "markdown",
      "metadata": {
        "id": "0gdr7AL5L4Fi"
      },
      "source": [
        "**Задание 2 (0.5 балла)**\n",
        "\n",
        "Давайте попробуем добиться скорости работы на fit, predict сравнимой со sklearn для iris. Допускается замедление не более чем в 2 раза. \n",
        "Для этого используем numpy. "
      ]
    },
    {
      "cell_type": "code",
      "metadata": {
        "id": "LsImYSBOL4Fi",
        "outputId": "02772c36-c3b3-472f-e7c8-70f968825146",
        "colab": {
          "base_uri": "https://localhost:8080/",
          "height": 102
        }
      },
      "source": [
        "%time clf.fit(X_train, y_train)"
      ],
      "execution_count": 8,
      "outputs": [
        {
          "output_type": "stream",
          "text": [
            "CPU times: user 1.27 ms, sys: 0 ns, total: 1.27 ms\n",
            "Wall time: 1.26 ms\n"
          ],
          "name": "stdout"
        },
        {
          "output_type": "execute_result",
          "data": {
            "text/plain": [
              "KNeighborsClassifier(algorithm='brute', leaf_size=30, metric='minkowski',\n",
              "                     metric_params=None, n_jobs=None, n_neighbors=2, p=2,\n",
              "                     weights='uniform')"
            ]
          },
          "metadata": {
            "tags": []
          },
          "execution_count": 8
        }
      ]
    },
    {
      "cell_type": "code",
      "metadata": {
        "id": "LRvvw46jL4Fl",
        "outputId": "b1c6859f-df8c-47b1-d43f-a54f07c54285",
        "colab": {
          "base_uri": "https://localhost:8080/",
          "height": 51
        }
      },
      "source": [
        "%time my_clf.fit(X_train, y_train)"
      ],
      "execution_count": 9,
      "outputs": [
        {
          "output_type": "stream",
          "text": [
            "CPU times: user 40 µs, sys: 0 ns, total: 40 µs\n",
            "Wall time: 42.4 µs\n"
          ],
          "name": "stdout"
        }
      ]
    },
    {
      "cell_type": "code",
      "metadata": {
        "id": "Ex5K-iRXL4Fn",
        "outputId": "15bb10b8-5877-40c7-f5f3-448ca07a75f0",
        "colab": {
          "base_uri": "https://localhost:8080/",
          "height": 68
        }
      },
      "source": [
        "%time clf.predict(X_test)"
      ],
      "execution_count": 10,
      "outputs": [
        {
          "output_type": "stream",
          "text": [
            "CPU times: user 2.68 ms, sys: 0 ns, total: 2.68 ms\n",
            "Wall time: 3.3 ms\n"
          ],
          "name": "stdout"
        },
        {
          "output_type": "execute_result",
          "data": {
            "text/plain": [
              "array([1, 1, 2, 1, 2, 1, 2, 0, 0, 2, 0, 1, 2, 0, 0])"
            ]
          },
          "metadata": {
            "tags": []
          },
          "execution_count": 10
        }
      ]
    },
    {
      "cell_type": "code",
      "metadata": {
        "id": "Mvl5AknsL4Fp",
        "outputId": "782e27f7-6597-4e60-8860-db2e593c42fb",
        "colab": {
          "base_uri": "https://localhost:8080/",
          "height": 68
        }
      },
      "source": [
        "%time my_clf.predict(X_test)"
      ],
      "execution_count": 11,
      "outputs": [
        {
          "output_type": "stream",
          "text": [
            "CPU times: user 2.2 ms, sys: 40 µs, total: 2.24 ms\n",
            "Wall time: 2.38 ms\n"
          ],
          "name": "stdout"
        },
        {
          "output_type": "execute_result",
          "data": {
            "text/plain": [
              "array([1, 1, 2, 1, 2, 1, 2, 0, 0, 2, 0, 1, 2, 0, 0])"
            ]
          },
          "metadata": {
            "tags": []
          },
          "execution_count": 11
        }
      ]
    },
    {
      "cell_type": "markdown",
      "metadata": {
        "id": "uP7AlcLCL4Fr"
      },
      "source": [
        "###### Задание 3 (1 балл)\n",
        "Добавьте algorithm='kd_tree' в реализацию KNN (использовать KDTree из sklearn.neighbors). Необходимо добиться скорости работы на fit,  predict сравнимой со sklearn для iris. Допускается замедление не более чем в 2 раза. \n",
        "Для этого используем numpy. Точность не должна уступать значению KNN из sklearn. "
      ]
    },
    {
      "cell_type": "code",
      "metadata": {
        "id": "XI25_R6KL4Fr"
      },
      "source": [
        "clf = KNeighborsClassifier(n_neighbors=2, algorithm='kd_tree')\n",
        "my_clf = MyKNeighborsClassifier(n_neighbors=2, algorithm='kd_tree')"
      ],
      "execution_count": 12,
      "outputs": []
    },
    {
      "cell_type": "code",
      "metadata": {
        "id": "tP9U0PDCL4Ft"
      },
      "source": [
        "X_train, X_test, y_train, y_test = train_test_split(iris.data, iris.target, test_size=0.1, stratify=iris.target)"
      ],
      "execution_count": 13,
      "outputs": []
    },
    {
      "cell_type": "code",
      "metadata": {
        "id": "W_m0R9EVL4Fv",
        "outputId": "9db29b3c-66d7-4961-a4b5-ccdaa448b3b3",
        "colab": {
          "base_uri": "https://localhost:8080/",
          "height": 102
        }
      },
      "source": [
        "%time clf.fit(X_train, y_train)"
      ],
      "execution_count": 14,
      "outputs": [
        {
          "output_type": "stream",
          "text": [
            "CPU times: user 1.2 ms, sys: 38 µs, total: 1.24 ms\n",
            "Wall time: 1.02 ms\n"
          ],
          "name": "stdout"
        },
        {
          "output_type": "execute_result",
          "data": {
            "text/plain": [
              "KNeighborsClassifier(algorithm='kd_tree', leaf_size=30, metric='minkowski',\n",
              "                     metric_params=None, n_jobs=None, n_neighbors=2, p=2,\n",
              "                     weights='uniform')"
            ]
          },
          "metadata": {
            "tags": []
          },
          "execution_count": 14
        }
      ]
    },
    {
      "cell_type": "code",
      "metadata": {
        "id": "3RAWBAIkL4Fx",
        "outputId": "93134e44-a67c-4431-b94f-70c540759b45",
        "colab": {
          "base_uri": "https://localhost:8080/",
          "height": 51
        }
      },
      "source": [
        "%time my_clf.fit(X_train, y_train)"
      ],
      "execution_count": 15,
      "outputs": [
        {
          "output_type": "stream",
          "text": [
            "CPU times: user 302 µs, sys: 60 µs, total: 362 µs\n",
            "Wall time: 336 µs\n"
          ],
          "name": "stdout"
        }
      ]
    },
    {
      "cell_type": "code",
      "metadata": {
        "id": "kMEEyWK8L4Fz",
        "outputId": "4be6cc16-4409-4639-c723-499bac37f81e",
        "colab": {
          "base_uri": "https://localhost:8080/",
          "height": 68
        }
      },
      "source": [
        "%time clf.predict(X_test)"
      ],
      "execution_count": 16,
      "outputs": [
        {
          "output_type": "stream",
          "text": [
            "CPU times: user 1.97 ms, sys: 779 µs, total: 2.75 ms\n",
            "Wall time: 2.6 ms\n"
          ],
          "name": "stdout"
        },
        {
          "output_type": "execute_result",
          "data": {
            "text/plain": [
              "array([2, 2, 0, 2, 1, 2, 0, 1, 2, 1, 0, 1, 1, 0, 0])"
            ]
          },
          "metadata": {
            "tags": []
          },
          "execution_count": 16
        }
      ]
    },
    {
      "cell_type": "code",
      "metadata": {
        "id": "pWtR-hzEL4F1",
        "outputId": "cae57610-07ce-486a-c6d3-f58d7a340ad6",
        "colab": {
          "base_uri": "https://localhost:8080/",
          "height": 68
        }
      },
      "source": [
        "%time my_clf.predict(X_test)"
      ],
      "execution_count": 17,
      "outputs": [
        {
          "output_type": "stream",
          "text": [
            "CPU times: user 2.41 ms, sys: 0 ns, total: 2.41 ms\n",
            "Wall time: 2.18 ms\n"
          ],
          "name": "stdout"
        },
        {
          "output_type": "execute_result",
          "data": {
            "text/plain": [
              "array([2, 2, 0, 2, 1, 2, 0, 1, 2, 1, 0, 1, 1, 0, 0])"
            ]
          },
          "metadata": {
            "tags": []
          },
          "execution_count": 17
        }
      ]
    },
    {
      "cell_type": "code",
      "metadata": {
        "id": "ofHwPtg4L4F3"
      },
      "source": [
        "sklearn_pred = clf.predict(X_test)\n",
        "my_clf_pred = my_clf.predict(X_test)\n",
        "assert abs( accuracy_score(y_test, my_clf_pred) -  accuracy_score(y_test, sklearn_pred ) )<0.005, \"Score must be simillar\""
      ],
      "execution_count": 18,
      "outputs": []
    },
    {
      "cell_type": "markdown",
      "metadata": {
        "id": "fOMZs5U7L4F6"
      },
      "source": [
        "**Задание 4 (2.5 балла)**\n",
        "\n",
        "Рассмотрим новый датасет 20 newsgroups"
      ]
    },
    {
      "cell_type": "code",
      "metadata": {
        "id": "HfgVPE4sL4F6",
        "outputId": "84697407-73f2-4b33-c710-7cd4db7838c9",
        "colab": {
          "base_uri": "https://localhost:8080/",
          "height": 51
        }
      },
      "source": [
        "newsgroups = fetch_20newsgroups(subset='train',remove=['headers','footers', 'quotes'])"
      ],
      "execution_count": 19,
      "outputs": [
        {
          "output_type": "stream",
          "text": [
            "Downloading 20news dataset. This may take a few minutes.\n",
            "Downloading dataset from https://ndownloader.figshare.com/files/5975967 (14 MB)\n"
          ],
          "name": "stderr"
        }
      ]
    },
    {
      "cell_type": "code",
      "metadata": {
        "id": "4hDlG2rOL4F8"
      },
      "source": [
        "data = newsgroups['data']\n",
        "target = newsgroups['target']"
      ],
      "execution_count": 20,
      "outputs": []
    },
    {
      "cell_type": "markdown",
      "metadata": {
        "id": "U-YADRRoL4F-"
      },
      "source": [
        "Преобразуйте текстовые данные из data с помощью [CountVectorizer](https://scikit-learn.org/stable/modules/generated/sklearn.feature_extraction.text.CountVectorizer.html). Словарь можно ограничить по частотности."
      ]
    },
    {
      "cell_type": "code",
      "metadata": {
        "id": "tZXSIU-lL4F_"
      },
      "source": [
        "from sklearn.feature_extraction.text import CountVectorizer"
      ],
      "execution_count": 21,
      "outputs": []
    },
    {
      "cell_type": "code",
      "metadata": {
        "id": "gsBRQO-LL4GA"
      },
      "source": [
        "count_vectorizer = CountVectorizer(max_df=0.035, min_df=0.001)\n",
        "X_vectorizer = count_vectorizer.fit_transform(data)\n",
        "X_vectorizer = X_vectorizer.toarray()"
      ],
      "execution_count": 22,
      "outputs": []
    },
    {
      "cell_type": "markdown",
      "metadata": {
        "id": "kTzBT279L4GC"
      },
      "source": [
        "*Так мы получили векторное представление наших текстов. Значит можно приступать к задаче обучения модели*"
      ]
    },
    {
      "cell_type": "markdown",
      "metadata": {
        "id": "411oIpdVL4GC"
      },
      "source": [
        "Реализуйте разбиение выборки для кросс-валидации на 3 фолдах. Разрешено использовать sklearn.cross_validation"
      ]
    },
    {
      "cell_type": "code",
      "metadata": {
        "id": "4c14RIOVL4GD"
      },
      "source": [
        "from sklearn.model_selection import KFold"
      ],
      "execution_count": 23,
      "outputs": []
    },
    {
      "cell_type": "code",
      "metadata": {
        "id": "E0dweUjeL4GF"
      },
      "source": [
        "def validation_KFold_3(n_neighbors, algorithm, metric, X):\n",
        "    kf = KFold(n_splits=3, shuffle=True, random_state=2020)\n",
        "    accuracy_list = []\n",
        "    for train_index, test_index in kf.split(X):\n",
        "        X_train, X_test = X[train_index], X[test_index]\n",
        "        y_train, y_test = target[train_index], target[test_index]\n",
        "        my_clf = MyKNeighborsClassifier(n_neighbors=n_neighbors, algorithm=algorithm, metric=metric)\n",
        "        my_clf.fit(X_train, y_train)\n",
        "        my_clf_pred = my_clf.predict(X_test)\n",
        "        cur_accuracy_score = accuracy_score(y_test, my_clf_pred)\n",
        "        accuracy_list.append(cur_accuracy_score)\n",
        "    return sum(accuracy_list) / len(accuracy_list)\n",
        "     "
      ],
      "execution_count": 24,
      "outputs": []
    },
    {
      "cell_type": "markdown",
      "metadata": {
        "id": "mwnzMdCRL4GH"
      },
      "source": [
        "Напишите метод, позволяющий найти оптимальное количество ближайших соседей(дающее максимальную точность в среднем на валидации на 3 фолдах).\n",
        "Постройте график зависимости средней точности от количества соседей. Можно рассмотреть число соседей от 1 до 10."
      ]
    },
    {
      "cell_type": "code",
      "metadata": {
        "id": "5f9y61gYL4GK"
      },
      "source": [
        "def find_best_n_neighbors(X, algorithm, metric):\n",
        "  accur_score, max_accuracy, n_neighbors = [], 0, 0\n",
        "  for i in range(1, 11):\n",
        "      accur_score.append(validation_KFold_3(i, algorithm, metric, X))\n",
        "      if accur_score[-1] > max_accuracy:\n",
        "          max_accuracy = accur_score[-1]\n",
        "          n_neighbors = i\n",
        "  return accur_score, n_neighbors\n",
        "  \n"
      ],
      "execution_count": 25,
      "outputs": []
    },
    {
      "cell_type": "code",
      "metadata": {
        "id": "WrpdnTSxEnwu"
      },
      "source": [
        "accur_score_CV_euclid, neighbors_CV_euclid = find_best_n_neighbors(X_vectorizer, \"brute\", \"euclidean\")"
      ],
      "execution_count": 26,
      "outputs": []
    },
    {
      "cell_type": "code",
      "metadata": {
        "id": "_L_uzZh2LQ7q",
        "outputId": "1b8d2ff3-4f81-4ceb-a73e-c562d10aec8b",
        "colab": {
          "base_uri": "https://localhost:8080/",
          "height": 85
        }
      },
      "source": [
        "print(\"CountVectorizer | brute | euclidean metric:\\n\", *accur_score_CV_euclid, \"\\nBest n_neighbors:\\n\", neighbors_CV_euclid)"
      ],
      "execution_count": 27,
      "outputs": [
        {
          "output_type": "stream",
          "text": [
            "CountVectorizer | brute | euclidean metric:\n",
            " 0.3032526511837703 0.2379354066620117 0.2519009840404516 0.2507519572964745 0.2502212190500723 0.2478346545078678 0.24429915695857177 0.239703260890656 0.23537261677483434 0.23413498523972132 \n",
            "Best n_neighbors:\n",
            " 1\n"
          ],
          "name": "stdout"
        }
      ]
    },
    {
      "cell_type": "markdown",
      "metadata": {
        "id": "reMWFbRbL4Gn"
      },
      "source": [
        "Как изменится качество на валидации, если:\n",
        "\n",
        "1. Используется косинусная метрика вместо евклидовой.\n",
        "2. К текстам применяется TfIdf векторизацию( sklearn.feature_extraction.text.TfidfVectorizer)\n",
        "\n",
        "Сравните модели, выберите лучшую."
      ]
    },
    {
      "cell_type": "code",
      "metadata": {
        "id": "IqVfrkCMMkh0"
      },
      "source": [
        "accur_score_CV_cos, neighbors_CV_cos = find_best_n_neighbors(X_vectorizer, \"brute\", \"cosine\")"
      ],
      "execution_count": 28,
      "outputs": []
    },
    {
      "cell_type": "code",
      "metadata": {
        "id": "Y7tS1yq-MvAN",
        "outputId": "22d898e1-72f7-45cf-ed7b-7e593b52467e",
        "colab": {
          "base_uri": "https://localhost:8080/",
          "height": 85
        }
      },
      "source": [
        "print(\"CountVectorizer | brute | cosine metric:\\n\", *accur_score_CV_cos, \"\\nBest n_neighbors:\\n\", neighbors_CV_cos)"
      ],
      "execution_count": 29,
      "outputs": [
        {
          "output_type": "stream",
          "text": [
            "CountVectorizer | brute | cosine metric:\n",
            " 0.5275759153945868 0.49080705958731957 0.5167041473603834 0.5397728417808546 0.556124468148628 0.5661121333118488 0.5701779941600046 0.575215929946301 0.5816680506917828 0.5841427982091382 \n",
            "Best n_neighbors:\n",
            " 10\n"
          ],
          "name": "stdout"
        }
      ]
    },
    {
      "cell_type": "code",
      "metadata": {
        "id": "EGRtNF48NOxj"
      },
      "source": [
        "from sklearn.feature_extraction.text import TfidfVectorizer"
      ],
      "execution_count": 30,
      "outputs": []
    },
    {
      "cell_type": "code",
      "metadata": {
        "id": "yp0CBRZvNbUq"
      },
      "source": [
        "vectorizer_Tfid = TfidfVectorizer(max_df=0.035, min_df=0.001)\n",
        "X_Tfid = vectorizer_Tfid.fit_transform(data)\n",
        "X_Tfid = X_Tfid.toarray()"
      ],
      "execution_count": 31,
      "outputs": []
    },
    {
      "cell_type": "code",
      "metadata": {
        "id": "68fe0st1Npda"
      },
      "source": [
        "accur_score_Tfid_euclid, neighbors_Tfid_euclid = find_best_n_neighbors(X_Tfid, \"brute\", \"euclidean\")"
      ],
      "execution_count": 32,
      "outputs": []
    },
    {
      "cell_type": "code",
      "metadata": {
        "id": "xmgcNOATNpzP",
        "outputId": "ffb80ae7-fea4-42fc-c301-879974742f11",
        "colab": {
          "base_uri": "https://localhost:8080/",
          "height": 85
        }
      },
      "source": [
        "print(\"TfidfVectorizer | brute | euclidean metric:\\n\", *accur_score_Tfid_euclid, \"\\nBest n_neighbors:\\n\", neighbors_Tfid_euclid)"
      ],
      "execution_count": 33,
      "outputs": [
        {
          "output_type": "stream",
          "text": [
            "TfidfVectorizer | brute | euclidean metric:\n",
            " 0.1708508000302583 0.10668225417337707 0.1145483255358305 0.11012900632620866 0.10535639279467057 0.10438450533030114 0.10155583076705176 0.09828535082763579 0.096694167194171 0.0950148474539984 \n",
            "Best n_neighbors:\n",
            " 1\n"
          ],
          "name": "stdout"
        }
      ]
    },
    {
      "cell_type": "code",
      "metadata": {
        "id": "gSthcyVBNqOK"
      },
      "source": [
        "accur_score_Tfid_cos, neighbors_Tfid_cos = find_best_n_neighbors(X_Tfid, \"brute\", \"cosine\")"
      ],
      "execution_count": 34,
      "outputs": []
    },
    {
      "cell_type": "code",
      "metadata": {
        "id": "4gsu8k88NqWU",
        "outputId": "1d81b737-27a2-4e1a-94ff-b41aa5021b50",
        "colab": {
          "base_uri": "https://localhost:8080/",
          "height": 85
        }
      },
      "source": [
        "print(\"TfidfVectorizer | brute | cosine metric:\\n\", *accur_score_Tfid_cos, \"\\nBest n_neighbors:\\n\", neighbors_Tfid_cos)"
      ],
      "execution_count": 35,
      "outputs": [
        {
          "output_type": "stream",
          "text": [
            "TfidfVectorizer | brute | cosine metric:\n",
            " 0.5550640461957869 0.5244821060503504 0.5539148319780386 0.5791046983832918 0.5948377081743907 0.6057973545388666 0.6101280923915738 0.6127803072676363 0.6199392978676077 0.6245354985804018 \n",
            "Best n_neighbors:\n",
            " 10\n"
          ],
          "name": "stdout"
        }
      ]
    },
    {
      "cell_type": "code",
      "metadata": {
        "id": "agyXK17TZSqA"
      },
      "source": [
        "import matplotlib.ticker as ticker"
      ],
      "execution_count": 36,
      "outputs": []
    },
    {
      "cell_type": "code",
      "metadata": {
        "id": "6dVy9pslO7Fy",
        "outputId": "e84d8a39-ea71-4255-81fc-6227d4497810",
        "colab": {
          "base_uri": "https://localhost:8080/",
          "height": 638
        }
      },
      "source": [
        "fig = plt.figure()\n",
        "fig.set_figheight(10)\n",
        "fig.set_figwidth(20)\n",
        "ax = fig.add_subplot()\n",
        "ax.xaxis.set_major_locator(ticker.MultipleLocator(1))\n",
        "ax.set_title(\"Зависимость accurancy от числа соседей при разных реализациях и метриках\")\n",
        "ax.plot(list(range(1, 11)), accur_score_CV_euclid, color='y', linewidth=2.0, label=\"CountVectorizer | brute | euclidean metric\")\n",
        "ax.plot(list(range(1, 11)), accur_score_CV_cos, color='b', linewidth=2.0, label=\"CountVectorizer | brute | cosine metric\")\n",
        "ax.plot(list(range(1, 11)), accur_score_Tfid_euclid, color='g', linewidth=2.0, label=\"TfidfVectorizer | brute | euclidean metric\")\n",
        "ax.plot(list(range(1, 11)), accur_score_Tfid_cos, color='r', linewidth=2.0, label=\"TfidfVectorizer | brute | cosine metric\")\n",
        "ax.set_ylabel('accuracy')\n",
        "ax.set_xlabel('N neighbors')\n",
        "ax.legend()\n"
      ],
      "execution_count": 37,
      "outputs": [
        {
          "output_type": "execute_result",
          "data": {
            "text/plain": [
              "<matplotlib.legend.Legend at 0x7f5b91c4f0b8>"
            ]
          },
          "metadata": {
            "tags": []
          },
          "execution_count": 37
        },
        {
          "output_type": "display_data",
          "data": {
            "image/png": "[encoded data removed]",
            "text/plain": [
              "<Figure size 1440x720 with 1 Axes>"
            ]
          },
          "metadata": {
            "tags": [],
            "needs_background": "light"
          }
        }
      ]
    },
    {
      "cell_type": "markdown",
      "metadata": {
        "id": "FitLyZ5Mef1x"
      },
      "source": [
        "****Небольшой анализ полученного графика****\n",
        "\n",
        "Лучшее результаты показывает модель с косинусной (т.к. в этом случае мы сравниваем, насколько похожи слова, а не \"близки\" друг другу) метрикой и Tfidf- векторизацией. Причём результаты тем лучше, чем больше соседей рассматривается. (Возможно стоит увеличить количество соседей еще и посмотреть на результаты на тестовой выборке). Данными суждениями по виду графиков была выбрана модель для тестовой выборки.\n",
        "\n",
        "~Методом научного тыка~Эмпирическим способом было установлено, что accuracy увеличивается (почти для любого числа соседей) при уменьшении параметров max_df и min_df. Минимальные их значение, установка коих не приводит к непозволительно долгой работе, равны соответственно 0.035 и 0.001. Таким образом мы достаточно резко убираем слова, которые встречаются очень часто и очень-очень-очень редко."
      ]
    },
    {
      "cell_type": "markdown",
      "metadata": {
        "id": "mFK6jOE3L4G_"
      },
      "source": [
        "Загрузим  теперь test  часть нашей выборки и преобразуем её аналогично с train частью. Не забудьте, что наборы слов в train и test части могут отличаться."
      ]
    },
    {
      "cell_type": "code",
      "metadata": {
        "id": "hB5dW3jnL4G_"
      },
      "source": [
        "newsgroups = fetch_20newsgroups(subset='test',remove=['headers','footers', 'quotes'])"
      ],
      "execution_count": 38,
      "outputs": []
    },
    {
      "cell_type": "code",
      "metadata": {
        "id": "89A9ANKrL4HC"
      },
      "source": [
        "data_test = newsgroups['data']\n",
        "target_test = newsgroups['target']"
      ],
      "execution_count": 39,
      "outputs": []
    },
    {
      "cell_type": "markdown",
      "metadata": {
        "id": "7rfv00A6L4HG"
      },
      "source": [
        "Оценим точность вашей лучшей модели на test части датасета. Отличается ли оно от кросс-валидации? Попробуйте сделать выводы, почему отличается качество."
      ]
    },
    {
      "cell_type": "code",
      "metadata": {
        "id": "4WQJJfe4L4HK"
      },
      "source": [
        "X_test = vectorizer_Tfid.transform(data_test)\n",
        "X_test = X_test.toarray()\n"
      ],
      "execution_count": 40,
      "outputs": []
    },
    {
      "cell_type": "code",
      "metadata": {
        "id": "STD8CIKTYhgQ"
      },
      "source": [
        "my_clf_best = MyKNeighborsClassifier(10, \"brute\", \"cosine\")\n",
        "my_clf_best.fit(X_Tfid, target)\n",
        "test_pred = my_clf_best.predict(X_test)\n",
        "res_score = accuracy_score(target_test, test_pred)"
      ],
      "execution_count": 41,
      "outputs": []
    },
    {
      "cell_type": "code",
      "metadata": {
        "id": "0rZmBSR_EX7e",
        "outputId": "351e928d-f6ef-4236-c78a-4a27fc93c95f",
        "colab": {
          "base_uri": "https://localhost:8080/",
          "height": 34
        }
      },
      "source": [
        "print(\"Итоговый скор =\", res_score)"
      ],
      "execution_count": 42,
      "outputs": [
        {
          "output_type": "stream",
          "text": [
            "Итоговый скор = 0.5602761550716941\n"
          ],
          "name": "stdout"
        }
      ]
    },
    {
      "cell_type": "markdown",
      "metadata": {
        "id": "l4ZOBF0Xdvae"
      },
      "source": [
        "Видимо, нам нужно запустить еще и кросс-валидацию. Запускаем:\n",
        "\n",
        "(Немного поправляем функцию, т.к. считать нужно по target_test)\n"
      ]
    },
    {
      "cell_type": "code",
      "metadata": {
        "id": "EAAskngShdOm"
      },
      "source": [
        "def validation_KFold_3(n_neighbors, algorithm, metric, X):\n",
        "    kf = KFold(n_splits=3, shuffle=True, random_state=2020)\n",
        "    accuracy_list = []\n",
        "    for train_index, test_index in kf.split(X):\n",
        "        X_train, X_test = X[train_index], X[test_index]\n",
        "        y_train, y_test = target_test[train_index], target_test[test_index]\n",
        "        my_clf = MyKNeighborsClassifier(n_neighbors=n_neighbors, algorithm=algorithm, metric=metric)\n",
        "        my_clf.fit(X_train, y_train)\n",
        "        my_clf_pred = my_clf.predict(X_test)\n",
        "        cur_accuracy_score = accuracy_score(y_test, my_clf_pred)\n",
        "        accuracy_list.append(cur_accuracy_score)\n",
        "    return sum(accuracy_list) / len(accuracy_list)\n",
        "     "
      ],
      "execution_count": 43,
      "outputs": []
    },
    {
      "cell_type": "code",
      "metadata": {
        "id": "RNaBmJf-lp75",
        "outputId": "5dd5413d-e17e-43e0-aae4-da0851def944",
        "colab": {
          "base_uri": "https://localhost:8080/",
          "height": 34
        }
      },
      "source": [
        "cross_val_score = validation_KFold_3(10, \"brute\", \"cosine\", X_test)\n",
        "print(\"Скор на кросс-валидации =\", cross_val_score)"
      ],
      "execution_count": 44,
      "outputs": [
        {
          "output_type": "stream",
          "text": [
            "Скор на кросс-валидации = 0.6117913055067663\n"
          ],
          "name": "stdout"
        }
      ]
    },
    {
      "cell_type": "markdown",
      "metadata": {
        "id": "e_jlsdasmVg8"
      },
      "source": [
        "Качество отличается. Скорее всего, это связано с тем,  что наборы слов в train и test части могут отличаться, к тому же свою роль сыграло переобучение.\n",
        "\n",
        "Посмотрим, что случится, если увеличить количество рассматриваемых соседей:"
      ]
    },
    {
      "cell_type": "code",
      "metadata": {
        "id": "ebcCDQVul5nU"
      },
      "source": [
        "res_list = []\n",
        "for i in range(10, 101, 10):\n",
        "    my_clf_best = MyKNeighborsClassifier(i, \"brute\", \"cosine\")\n",
        "    my_clf_best.fit(X_Tfid, target)\n",
        "    test_pred = my_clf_best.predict(X_test)\n",
        "    res_list.append(accuracy_score(target_test, test_pred))"
      ],
      "execution_count": 45,
      "outputs": []
    },
    {
      "cell_type": "code",
      "metadata": {
        "id": "ZA6YtVXPnbNA",
        "outputId": "b872a40f-dcca-46d6-fcc3-db9c5ad99c66",
        "colab": {
          "base_uri": "https://localhost:8080/",
          "height": 638
        }
      },
      "source": [
        "fig = plt.figure()\n",
        "fig.set_figheight(10)\n",
        "fig.set_figwidth(20)\n",
        "ax = fig.add_subplot()\n",
        "ax.xaxis.set_major_locator(ticker.MultipleLocator(10))\n",
        "ax.set_title(\"Зависимость accurancy от числа соседей\")\n",
        "ax.plot(list(range(10, 101,10)), res_list, color='y', linewidth=2.0)\n",
        "ax.set_ylabel('accuracy')\n",
        "ax.set_xlabel('N neighbors')"
      ],
      "execution_count": 48,
      "outputs": [
        {
          "output_type": "execute_result",
          "data": {
            "text/plain": [
              "Text(0.5, 0, 'N neighbors')"
            ]
          },
          "metadata": {
            "tags": []
          },
          "execution_count": 48
        },
        {
          "output_type": "display_data",
          "data": {
            "image/png": "[encoded data removed]",
            "text/plain": [
              "<Figure size 1440x720 with 1 Axes>"
            ]
          },
          "metadata": {
            "tags": [],
            "needs_background": "light"
          }
        }
      ]
    },
    {
      "cell_type": "markdown",
      "metadata": {
        "id": "l_ejWaPgoQkr"
      },
      "source": [
        "Из графика видно, что при увеличении количества соседей увеличивается скор. Однако после 90 соседей скор не сильно улучшается(даже ухудшается). Посмотрим кросс-валидацию на самом лучшем количестве соседей:"
      ]
    },
    {
      "cell_type": "code",
      "metadata": {
        "id": "wx9Rt9YBziR8"
      },
      "source": [
        "cross_val_score_best = validation_KFold_3(90, \"brute\", \"cosine\", X_test)"
      ],
      "execution_count": 49,
      "outputs": []
    },
    {
      "cell_type": "code",
      "metadata": {
        "id": "d9FS6X9Vzmx9",
        "outputId": "1d3e09e6-d251-493a-b031-2ac69e22e262",
        "colab": {
          "base_uri": "https://localhost:8080/",
          "height": 34
        }
      },
      "source": [
        "print(\"Итоговый скор =\", res_list[-2] ,\"Кросс-валидация =\",cross_val_score_best)"
      ],
      "execution_count": 51,
      "outputs": [
        {
          "output_type": "stream",
          "text": [
            "Итоговый скор = 0.6281200212426978 Кросс-валидация = 0.6291829892695248\n"
          ],
          "name": "stdout"
        }
      ]
    },
    {
      "cell_type": "markdown",
      "metadata": {
        "id": "pqoPtScIzuGI"
      },
      "source": [
        "Можно сделать вывод, что при увеличении количества соседей (до некоторого значения, пока их не становится слишком много для действительно ближайших), скор увеличивается и значительно меньше отличается от кросс - валидации. Вероятнее всего, это связано с меньшим переобучением. "
      ]
    },
    {
      "cell_type": "code",
      "metadata": {
        "id": "gNVs2DH41FF1"
      },
      "source": [
        ""
      ],
      "execution_count": null,
      "outputs": []
    }
  ]
}