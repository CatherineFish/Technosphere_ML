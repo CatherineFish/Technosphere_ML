{
  "nbformat": 4,
  "nbformat_minor": 0,
  "metadata": {
    "anaconda-cloud": {},
    "kernelspec": {
      "display_name": "Python [anaconda]",
      "language": "python",
      "name": "Python [anaconda]"
    },
    "language_info": {
      "codemirror_mode": {
        "name": "ipython",
        "version": 3
      },
      "file_extension": ".py",
      "mimetype": "text/x-python",
      "name": "python",
      "nbconvert_exporter": "python",
      "pygments_lexer": "ipython3",
      "version": "3.5.4"
    },
    "colab": {
      "name": "chekhonina_hw3.ipynb",
      "provenance": [],
      "collapsed_sections": [],
      "toc_visible": true
    }
  },
  "cells": [
    {
      "cell_type": "markdown",
      "metadata": {
        "id": "4wG017Z6R_8n"
      },
      "source": [
        "### Алгоритмы интеллектуальной обработки больших объемов данных\n",
        "## Домашнее задание №3 - Дерево решений\n"
      ]
    },
    {
      "cell_type": "markdown",
      "metadata": {
        "id": "DR2F7RJgR_8o"
      },
      "source": [
        "**Общая информация**\n",
        "\n",
        "**Срок сдачи:** 08 декабря 2020, 08:30   \n",
        "**Штраф за опоздание:** -2 балла после 08:30 08 декабря, -4 балла после 08:30 15 декабря, -6 баллов после 08:30 22 декабря, -8 баллов после 08:30 29 декабря.\n",
        "\n",
        "При отправлении ДЗ указывайте фамилию в названии файла Присылать ДЗ необходимо в виде ссылки на свой github репозиторий на почту ml1.sphere@mail.ru с указанием темы в следующем формате:\n",
        "[ML0220, Задание 3] Фамилия Имя. \n",
        "\n",
        "\n",
        "Используйте данный Ipython Notebook при оформлении домашнего задания."
      ]
    },
    {
      "cell_type": "markdown",
      "metadata": {
        "id": "MEva0eq_R_8o"
      },
      "source": [
        "##  Реализуем дерево решений (3 балла)"
      ]
    },
    {
      "cell_type": "markdown",
      "metadata": {
        "id": "-h7v18EzR_8o"
      },
      "source": [
        "Допишите недостающие части дерева решений. Ваша реализация дерева должна работать по точности не хуже DecisionTreeClassifier из sklearn.\n",
        "Внимание: если Вас не устраивает предложенная структура хранения дерева, Вы без потери баллов можете сделать свой класс DecisionTreeClassifier, в котором сами полностью воспроизведете алгоритм дерева решений. Обязательно в нем иметь только функции fit, predict"
      ]
    },
    {
      "cell_type": "code",
      "metadata": {
        "collapsed": true,
        "id": "-kz3eCWzR_8o"
      },
      "source": [
        "import matplotlib.pyplot as plt\n",
        "import numpy as np\n",
        "import pandas as pd\n",
        "\n",
        "from sklearn.datasets import load_wine\n",
        "from sklearn.ensemble import RandomForestClassifier\n",
        "from sklearn.metrics import accuracy_score, f1_score\n",
        "from sklearn.model_selection import KFold, train_test_split, GridSearchCV, RandomizedSearchCV\n",
        "from sklearn.tree import DecisionTreeClassifier\n"
      ],
      "execution_count": 112,
      "outputs": []
    },
    {
      "cell_type": "code",
      "metadata": {
        "collapsed": true,
        "id": "tzxkefXIR_8o"
      },
      "source": [
        "class MyDecisionTreeClassifier:\n",
        "    NON_LEAF_TYPE = 0\n",
        "    LEAF_TYPE = 1\n",
        "\n",
        "    def __init__(self, min_samples_split=2, max_depth=5, criterion='gini'):\n",
        "        \"\"\"\n",
        "        criterion -- критерий расщепления. необходимо релизовать три:\n",
        "        Ошибка классификации, Индекс Джини, Энтропийный критерий\n",
        "        max_depth -- максимальная глубина дерева\n",
        "        min_samples_split -- минимальное число объектов в листе, чтобы сделать новый сплит\n",
        "        \"\"\"\n",
        "        self.min_samples_split = min_samples_split\n",
        "        self.max_depth = max_depth\n",
        "        self.num_class = -1\n",
        "        # Для последнего задания\n",
        "        self.feature_importances_ = None\n",
        "        self.criterion = criterion\n",
        "        # Структура, которая описывает дерево\n",
        "        # Представляет словарь, где для  node_id (айдишник узла дерева) храним\n",
        "        # (тип_узла, айдишник признака сплита, порог сплита) если тип NON_LEAF_TYPE\n",
        "        # (тип_узла, предсказание класса, вероятность класса) если тип LEAF_TYPE\n",
        "        # Подразумевается, что у каждого node_id в дереве слева \n",
        "        # узел с айди 2 * node_id + 1, а справа 2 * node_id + 2\n",
        "        self.tree = dict()\n",
        "\n",
        "    def __div_samples(self, x, y, feature_id, threshold):\n",
        "        \"\"\"\n",
        "        Разделяет объекты на 2 множества\n",
        "        x -- матрица объектов\n",
        "        y -- вектор ответов\n",
        "        feature_id -- айдишник признака, по которому делаем сплит\n",
        "        threshold -- порог, по которому делаем сплит\n",
        "        \"\"\"\n",
        "        left_mask = x[:, feature_id] > threshold\n",
        "        right_mask = ~left_mask\n",
        "        return x[left_mask], x[right_mask], y[left_mask], y[right_mask]\n",
        "\n",
        "    def __find_threshold(self, x, y):\n",
        "        \"\"\"\n",
        "        Находим оптимальный признак и порог для сплита\n",
        "        Здесь используемые разные impurity в зависимости от self.criterion\n",
        "        \"\"\"\n",
        "        idx = np.argsort(x)\n",
        "        sorted_y = y[idx]\n",
        "        sorted_x = x[idx]       \n",
        "        splits = np.where(sorted_y[:-1] != sorted_y[1:])[0] + 1\n",
        "        if not splits.size:\n",
        "            return np.inf, 0\n",
        "        splited_y = sorted_y\n",
        "        splits = np.where(splited_y[:-1] != splited_y[1:])[0] + 1\n",
        "        c_size = np.int(self.min_samples_split / 2 - 1)\n",
        "        if c_size:\n",
        "          splited_y = sorted_y[c_size:-c_size]\n",
        "          splits = np.where(splited_y[:-1] != splited_y[1:])[0] + 1 + np.int(self.min_samples_split / 2 - 1)\n",
        "        if not splits.shape[0]:\n",
        "          return np.inf, 0\n",
        "        h_matr = np.zeros((splits.shape[0], self.num_class))\n",
        "        h_matr[np.arange(splits.shape[0]), sorted_y[splits - 1]] = 1\n",
        "        left = np.cumsum(((splits - np.append(np.array([c_size]), splits[:-1])).reshape(-1, 1)) * h_matr, axis=0)\n",
        "        right = np.bincount(sorted_y, minlength=self.num_class) - left\n",
        "        sum_r = sorted_y.shape[0]\n",
        "        sum_l = splits.reshape(left.shape[0], 1)\n",
        "        sum_r -= sum_l\n",
        "        if self.criterion == 'gini':\n",
        "            impurity = 1 - (left ** 2 / sum_l + right ** 2 / sum_r).sum(axis=1)\n",
        "        elif self.criterion == 'entropy':\n",
        "          im_l, im_r = 0, 0\n",
        "          if all(v != 0 for v in sum_l) and all(v != 0 for v in (sum_l + sum_r)): \n",
        "            im_l = - np.sum((left/sum_l)*(sum_l/(sum_l+sum_r)) * np.log2((left/sum_l)*(sum_l/(sum_l+sum_r)) + 0.0000001), axis=1).T\n",
        "          if all(v != 0 for v in sum_r) and all(v != 0 for v in (sum_l + sum_r)):\n",
        "            im_r = - np.sum((right/sum_r)*(sum_r/(sum_l+sum_r)) * np.log2((right/sum_r)*(sum_l/(sum_l+sum_r)) + 0.0000001), axis=1).T\n",
        "          impurity = im_l.T + im_r.T \n",
        "        else:\n",
        "            impurity = 1 - (np.max(left / (sum_l + sum_r), axis=1) + np.max(right / (sum_l + sum_r), axis=1))\n",
        "        return impurity[np.argmin(impurity)], (sorted_x[sum_l[np.argmin(impurity)][0] - 1] + sorted_x[sum_l[np.argmin(impurity)][0]]) / 2. \n",
        "\n",
        "\n",
        "    def __fit_node(self, x, y, node_id, depth):\n",
        "        \"\"\"\n",
        "        Делаем новый узел в дереве\n",
        "        Решаем, терминальный он или нет\n",
        "        Если нет, то строим левый узел  с айди 2 * node_id + 1\n",
        "        И правый узел с  айди 2 * node_id + 2\n",
        "        \"\"\"\n",
        "        if all((x.shape[0] > self.min_samples_split, self.max_depth > depth, len(np.unique(y)) > 1)):\n",
        "          th = np.array([self.__find_threshold(x[:, j], y) for j in range(x.shape[1])])\n",
        "          x_left, x_right, y_left, y_right = self.__div_samples(x, y, th[:, 0].argmin(), th[th[:, 0].argmin(), 1])\n",
        "          self.tree[node_id] = (self.NON_LEAF_TYPE, th[:, 0].argmin(), th[th[:, 0].argmin(), 1])\n",
        "          if any((not x_right.shape[0], not x_left.shape[0])):\n",
        "            self.tree[node_id] = (self.LEAF_TYPE, np.bincount(y).argmax(), np.bincount(y) / y.size) #\n",
        "            return\n",
        "          idx_for_feat = th[:, 0].argmax()\n",
        "          self.feature_importances_[idx_for_feat] -= th[idx_for_feat, 0]\n",
        "          self.__fit_node(x_left, y_left, 2 * node_id + 1, depth + 1)\n",
        "          self.__fit_node(x_right, y_right, 2 * node_id + 2, depth + 1)\n",
        "        else:\n",
        "          self.tree[node_id] = (self.LEAF_TYPE,np.bincount(y).argmax(), np.bincount(y) / y.size)\n",
        "\n",
        "    \n",
        "    def fit(self, x, y):\n",
        "        \"\"\"\n",
        "        Рекурсивно строим дерево решений\n",
        "        Начинаем с корня node_id 0\n",
        "        \"\"\"\n",
        "        self.num_class = np.unique(y).size\n",
        "        self.feature_importances_ = np.zeros(x.shape[1])\n",
        "        self.__fit_node(x, y, 0, 0) \n",
        "\n",
        "    def __predict_class(self, x, node_id):\n",
        "        \"\"\"\n",
        "        Рекурсивно обходим дерево по всем узлам,\n",
        "        пока не дойдем до терминального\n",
        "        \"\"\"\n",
        "        node = self.tree[node_id]\n",
        "        if node[0] == self.__class__.NON_LEAF_TYPE:\n",
        "            _, feature_id, threshold = node\n",
        "            if x[feature_id] > threshold:\n",
        "                return self.__predict_class(x, 2 * node_id + 1)\n",
        "            else:\n",
        "                return self.__predict_class(x, 2 * node_id + 2)\n",
        "        else:\n",
        "            return node[1]\n",
        "        \n",
        "    def predict(self, X):\n",
        "        \"\"\"\n",
        "        Вызывает predict для всех объектов из матрицы X\n",
        "        \"\"\"\n",
        "        return np.array([self.__predict_class(x, 0) for x in X])\n",
        "    \n",
        "    def fit_predict(self, x_train, y_train, predicted_x):\n",
        "        self.fit(x_train, y_train)\n",
        "        return self.predict(predicted_x)\n",
        "    \n",
        "    def get_feature_importance(self):\n",
        "        \"\"\"\n",
        "        Возвращает важность признаков\n",
        "        \"\"\"\n",
        "        return self.feature_importances_"
      ],
      "execution_count": 87,
      "outputs": []
    },
    {
      "cell_type": "code",
      "metadata": {
        "collapsed": true,
        "id": "bQYNh9v9R_8o"
      },
      "source": [
        "my_clf = MyDecisionTreeClassifier(min_samples_split=2)\n",
        "clf = DecisionTreeClassifier(min_samples_split=2)"
      ],
      "execution_count": 99,
      "outputs": []
    },
    {
      "cell_type": "code",
      "metadata": {
        "collapsed": true,
        "id": "nAGVAk50R_8p"
      },
      "source": [
        "wine = load_wine()\n",
        "X_train, X_test, y_train, y_test = train_test_split(wine.data, wine.target, test_size=0.1, stratify=wine.target)"
      ],
      "execution_count": 100,
      "outputs": []
    },
    {
      "cell_type": "code",
      "metadata": {
        "id": "aTO_1nP3Sv8k"
      },
      "source": [
        "clf.fit(X_train, y_train)\n",
        "my_clf.fit(X_train, y_train)"
      ],
      "execution_count": 101,
      "outputs": []
    },
    {
      "cell_type": "code",
      "metadata": {
        "collapsed": true,
        "colab": {
          "base_uri": "https://localhost:8080/"
        },
        "id": "E35djdgoR_8p",
        "outputId": "c7ddf43a-99bd-4088-9be4-a46d4f3ea797"
      },
      "source": [
        "accuracy_score(y_pred=clf.predict(X_test), y_true=y_test)"
      ],
      "execution_count": 102,
      "outputs": [
        {
          "output_type": "execute_result",
          "data": {
            "text/plain": [
              "0.7222222222222222"
            ]
          },
          "metadata": {
            "tags": []
          },
          "execution_count": 102
        }
      ]
    },
    {
      "cell_type": "code",
      "metadata": {
        "colab": {
          "base_uri": "https://localhost:8080/"
        },
        "id": "oDivK2fDTH7J",
        "outputId": "8e7a84d8-d5aa-49b6-92e0-07bc626c9315"
      },
      "source": [
        "accuracy_score(y_pred=my_clf.predict(X_test), y_true=y_test)"
      ],
      "execution_count": 103,
      "outputs": [
        {
          "output_type": "execute_result",
          "data": {
            "text/plain": [
              "0.7777777777777778"
            ]
          },
          "metadata": {
            "tags": []
          },
          "execution_count": 103
        }
      ]
    },
    {
      "cell_type": "markdown",
      "metadata": {
        "id": "zrmEgUF5R_8p"
      },
      "source": [
        "## Ускоряем дерево решений (2 балла)\n",
        "Добиться скорости работы на fit не медленнее чем в 10 раз sklearn на данных wine. \n",
        "Для этого используем numpy."
      ]
    },
    {
      "cell_type": "code",
      "metadata": {
        "collapsed": true,
        "scrolled": true,
        "colab": {
          "base_uri": "https://localhost:8080/"
        },
        "id": "g1oKiD-6R_8p",
        "outputId": "27556197-67fc-421c-9d06-162efe9a79ec"
      },
      "source": [
        "%time clf.fit(X_train, y_train)"
      ],
      "execution_count": 104,
      "outputs": [
        {
          "output_type": "stream",
          "text": [
            "CPU times: user 1.57 ms, sys: 0 ns, total: 1.57 ms\n",
            "Wall time: 1.58 ms\n"
          ],
          "name": "stdout"
        },
        {
          "output_type": "execute_result",
          "data": {
            "text/plain": [
              "DecisionTreeClassifier(ccp_alpha=0.0, class_weight=None, criterion='gini',\n",
              "                       max_depth=None, max_features=None, max_leaf_nodes=None,\n",
              "                       min_impurity_decrease=0.0, min_impurity_split=None,\n",
              "                       min_samples_leaf=1, min_samples_split=2,\n",
              "                       min_weight_fraction_leaf=0.0, presort='deprecated',\n",
              "                       random_state=None, splitter='best')"
            ]
          },
          "metadata": {
            "tags": []
          },
          "execution_count": 104
        }
      ]
    },
    {
      "cell_type": "code",
      "metadata": {
        "collapsed": true,
        "colab": {
          "base_uri": "https://localhost:8080/"
        },
        "id": "RAolZa5TR_8p",
        "outputId": "6a62fdda-8377-4a44-d154-d2cbc9862b2a"
      },
      "source": [
        "%time my_clf.fit(X_train, y_train)"
      ],
      "execution_count": 105,
      "outputs": [
        {
          "output_type": "stream",
          "text": [
            "CPU times: user 14.3 ms, sys: 1 µs, total: 14.3 ms\n",
            "Wall time: 14.7 ms\n"
          ],
          "name": "stdout"
        }
      ]
    },
    {
      "cell_type": "code",
      "metadata": {
        "collapsed": true,
        "id": "QTQOzC9qR_8p"
      },
      "source": [
        ""
      ],
      "execution_count": null,
      "outputs": []
    },
    {
      "cell_type": "markdown",
      "metadata": {
        "id": "WM3gGIEwR_8p"
      },
      "source": [
        "## Боевое применение (3 балла)\n",
        "\n",
        "На практике Вы познакомились с датасетом Speed Dating Data. В нем каждая пара в быстрых свиданиях характеризуется определенным набором признаков. Задача -- предсказать, произойдет ли матч пары (колонка match). \n",
        "\n",
        "Пример работы с датасетом можете найти в практике пункт 2\n",
        "https://github.com/VVVikulin/ml1.sphere/blob/master/2019-09/lecture_06/pract-trees.ipynb\n",
        "\n",
        "Данные и описания колонок лежат тут\n",
        "https://cloud.mail.ru/public/8nHV/p6J7wY1y1/speed-dating-experiment/"
      ]
    },
    {
      "cell_type": "markdown",
      "metadata": {
        "id": "5IelbRVFR_8p"
      },
      "source": [
        "Скачайте датасет, обработайте данные, как показано на семинаре или своим собственным способом. Обучите дерево классифкации. В качестве таргета возьмите колонку 'match'. Постарайтесь хорошо обработать признаки, чтобы выбить максимальную точность. Если точность будет близка к случайному гаданию, задание не будет защитано. \n"
      ]
    },
    {
      "cell_type": "code",
      "metadata": {
        "collapsed": true,
        "id": "CPm5dXaKR_8p"
      },
      "source": [
        "df = pd.read_csv('drive/MyDrive/speed-dating-experiment/Speed Dating Data.csv', encoding='latin1')\n",
        "\n",
        "\n",
        "df = df.iloc[:, :97]\n",
        "\n",
        "df = df.drop(['id'], axis = 1)\n",
        "df = df.drop(['from'], axis = 1)\n",
        "df = df.drop(['idg'], axis = 1)\n",
        "df = df.drop(['condtn'], axis = 1)\n",
        "df = df.drop(['round'], axis = 1)\n",
        "df = df.drop(['wave'], axis = 1)\n",
        "df = df.drop(['position', 'positin1'], axis = 1)\n",
        "df = df.drop(['order'], axis = 1)\n",
        "df = df.drop(['partner'], axis = 1)\n",
        "df = df.drop(['age_o', 'race_o', 'pf_o_att', \n",
        "              'pf_o_sin', 'pf_o_int',\n",
        "              'pf_o_fun', 'pf_o_amb', 'pf_o_sha',\n",
        "              'dec_o', 'attr_o', 'sinc_o', 'intel_o', 'fun_o',\n",
        "              'amb_o', 'shar_o', 'like_o', 'prob_o','met_o'], axis = 1)\n",
        "\n",
        "df = df.dropna(subset = ['age', 'imprelig', 'imprace'])\n",
        "df = df.drop(['field'], axis = 1)\n",
        "df = df.drop(['undergra'], axis = 1)\n",
        "\n",
        "df.loc[:, 'field_cd'] = df.loc[:, 'field_cd'].fillna(19)\n",
        "df.loc[:, 'mn_sat'] = df.loc[:, 'mn_sat'].str.replace(',', '').astype(np.float)\n",
        "df.loc[:, 'tuition'] = df.loc[:, 'tuition'].str.replace(',', '').astype(np.float)\n",
        "df.loc[:, 'zipcode'] = df.loc[:, 'zipcode'].str.replace(',', '').astype(np.float) # df = df.drop(['zipcode'], axis=1)\n",
        "df.loc[:, 'income'] = df.loc[:, 'income'].str.replace(',', '').astype(np.float)\n",
        "\n",
        "df['mn_sat'] = df['mn_sat'].fillna(0.0)\n",
        "df['tuition'] = df['tuition'].fillna(0.0)\n",
        "df['income'] = df['income'].fillna(0.0)\n",
        "df['career_c'] = df['career_c'].fillna(0.0)\n",
        "\n",
        "df = df.dropna(subset=['date'])\n",
        "df = df.drop(['career'], axis = 1)\n",
        "df = df.drop(['sports','tvsports','exercise','dining',\n",
        "              'museums','art','hiking','gaming',\n",
        "              'clubbing','reading','tv','theater','movies',\n",
        "              'concerts','music','shopping','yoga'], axis = 1)\n",
        "df = df.drop(['expnum'], axis = 1)\n",
        "\n",
        "df.loc[:, 'temp_totalsum'] = df.loc[:, ['attr1_1', 'sinc1_1', \n",
        "                                        'intel1_1', 'fun1_1', \n",
        "                                        'amb1_1', 'shar1_1']].sum(axis = 1)\n",
        "df.loc[:, ['attr1_1', 'sinc1_1', 'intel1_1', 'fun1_1', 'amb1_1', 'shar1_1']] = \\\n",
        "(df.loc[:, ['attr1_1', 'sinc1_1', 'intel1_1', 'fun1_1', \n",
        "            'amb1_1', 'shar1_1']].T/df.loc[:, 'temp_totalsum'].T).T * 100\n",
        "df.loc[:, 'temp_totalsum'] = df.loc[:, ['attr2_1', 'sinc2_1',\n",
        "                                        'intel2_1', 'fun2_1',\n",
        "                                        'amb2_1', 'shar2_1']].sum(axis=1)\n",
        "df.loc[:, ['attr2_1', 'sinc2_1', 'intel2_1', 'fun2_1', 'amb2_1', 'shar2_1']] = \\\n",
        "(df.loc[:, ['attr2_1', 'sinc2_1', 'intel2_1', 'fun2_1',\n",
        "            'amb2_1', 'shar2_1']].T/df.loc[:, 'temp_totalsum'].T).T * 100\n",
        "df = df.drop(['temp_totalsum'], axis = 1)\n",
        "\n",
        "df = df.dropna()\n",
        "for i in [4, 5]:\n",
        "    feat = ['attr{}_1'.format(i), 'sinc{}_1'.format(i), \n",
        "            'intel{}_1'.format(i), 'fun{}_1'.format(i), \n",
        "            'amb{}_1'.format(i), 'shar{}_1'.format(i)]\n",
        "    \n",
        "    if i != 4:\n",
        "        feat.remove('shar{}_1'.format(i))\n",
        "    \n",
        "    df = df.drop(feat, axis=1)\n",
        "\n",
        "df_male = df.query('gender == 1').drop_duplicates(subset = ['iid', 'pid'])\\\n",
        "                                 .drop(['gender'], axis = 1)\\\n",
        "                                 .dropna()\n",
        "df_female = df.query('gender == 0').drop_duplicates(subset = ['iid'])\\\n",
        "                                   .drop(['gender', 'match', 'int_corr', 'samerace'], axis = 1)\\\n",
        "                                   .dropna()\n",
        "        \n",
        "df_female.columns = df_female.columns + '_f'\n",
        "df = df_male.join(df_female)\n",
        "df = df.fillna(value = 0)\n",
        "\n",
        "X = np.array(df.drop(['match'], axis = 1))\n",
        "y = np.array(df['match'])"
      ],
      "execution_count": 106,
      "outputs": []
    },
    {
      "cell_type": "code",
      "metadata": {
        "collapsed": true,
        "colab": {
          "base_uri": "https://localhost:8080/"
        },
        "id": "U9gLC0hpR_8p",
        "outputId": "1e2b8735-8590-45d0-e9d7-ca913b33872d"
      },
      "source": [
        "X_train, X_test, y_train, y_test = train_test_split(X, y, test_size=0.1)\n",
        "\n",
        "clf = DecisionTreeClassifier(min_samples_split=2)\n",
        "my_clf = MyDecisionTreeClassifier()\n",
        "\n",
        "clf.fit(X_train, y_train)\n",
        "my_clf.fit(X_train, y_train)\n",
        "\n",
        "print(accuracy_score(y_pred=clf.predict(X_test), y_true=y_test))\n",
        "print(accuracy_score(y_pred=my_clf.predict(X_test), y_true=y_test))"
      ],
      "execution_count": 107,
      "outputs": [
        {
          "output_type": "stream",
          "text": [
            "0.7587939698492462\n",
            "0.8442211055276382\n"
          ],
          "name": "stdout"
        }
      ]
    },
    {
      "cell_type": "markdown",
      "metadata": {
        "id": "KgJn-Tc5R_8p"
      },
      "source": [
        "Разбейте датасет на трейн и валидацию. Подберите на валидации оптимальный критерий  информативности. \n",
        "Постройте графики зависимости точности на валидации от глубины дерева, от минимального числа объектов для сплита. \n",
        "Какой максимальной точности удалось достигнуть?"
      ]
    },
    {
      "cell_type": "code",
      "metadata": {
        "colab": {
          "base_uri": "https://localhost:8080/"
        },
        "id": "0C6Ij65STs7E",
        "outputId": "e0a3714f-dfbd-4fe3-ab2f-35f0384972a4"
      },
      "source": [
        "my_criterion = None\n",
        "my_depth = None\n",
        "my_samples_split = None\n",
        "my_score = 0\n",
        "\n",
        "for cur_criterion in ['gini', 'entropy',  'missclass']:\n",
        "    for cur_samples_split in range(2, 20, 2):\n",
        "        for cur_depth in np.linspace(1, 20, 5, dtype=int):\n",
        "            my_clf = MyDecisionTreeClassifier(min_samples_split=cur_samples_split, max_depth=cur_depth, criterion=cur_criterion)\n",
        "            all_idx = KFold(n_splits = 5, shuffle = True).split(X)\n",
        "            score = []\n",
        "            for idx_train, idx_test in all_idx:\n",
        "                my_clf.fit(X[idx_train], y[idx_train])\n",
        "                score.append(accuracy_score(y_pred=my_clf.predict(X[idx_test]), y_true=y[idx_test]))\n",
        "            cur_score = np.mean(np.array(score))\n",
        "            if cur_score > my_score:\n",
        "                my_criterion, my_depth, my_samples_split, my_score = cur_criterion, cur_depth, cur_samples_split, cur_score \n",
        "print(\"RESULT ACCURACY\\nCriterion: \", my_criterion)\n",
        "print(\"Depth: \", my_depth)\n",
        "print(\"Samples split: \", my_samples_split)\n",
        "print(\"Score: \", my_score)"
      ],
      "execution_count": 108,
      "outputs": [
        {
          "output_type": "stream",
          "text": [
            "RESULT ACCURACY\n",
            "Criterion:  gini\n",
            "Depth:  20\n",
            "Samples split:  12\n",
            "Score:  0.8505892181309569\n"
          ],
          "name": "stdout"
        }
      ]
    },
    {
      "cell_type": "code",
      "metadata": {
        "id": "z9ARTJcfTtF7"
      },
      "source": [
        "score_dict = {}\n",
        "\n",
        "for cur_depth in np.linspace(1, 20, 5, dtype=int):\n",
        "    score_dict[cur_depth] = []\n",
        "    for cur_samples_split in range(2, 20, 2):\n",
        "        score = []\n",
        "        my_clf = MyDecisionTreeClassifier(min_samples_split=cur_samples_split, max_depth=cur_depth, criterion=my_criterion)\n",
        "        all_idx = KFold(n_splits = 5, shuffle = True).split(X)\n",
        "        for idx_train, idx_test in all_idx:\n",
        "            my_clf.fit(X[idx_train], y[idx_train])\n",
        "            score.append(accuracy_score(y_pred=my_clf.predict(X[idx_test]), y_true=y[idx_test]))\n",
        "        score_dict[cur_depth].append(np.mean(np.array(score)))"
      ],
      "execution_count": 109,
      "outputs": []
    },
    {
      "cell_type": "code",
      "metadata": {
        "colab": {
          "base_uri": "https://localhost:8080/",
          "height": 877
        },
        "id": "1wAJ8svWTtTb",
        "outputId": "346e1d74-2358-46ca-f38c-61c99d07da19"
      },
      "source": [
        "plt.rcParams['figure.figsize'] = (15,15)\n",
        "\n",
        "for cur_depth in np.linspace(1, 20, 5, dtype=int):\n",
        "   plt.plot(range(2, 20, 2), score_dict[cur_depth], label='cur max depth={0}'.format(cur_depth))\n",
        "plt.ylabel('accuracy score')\n",
        "plt.xlabel('min samples split')\n",
        "plt.legend()\n",
        "plt.show()"
      ],
      "execution_count": 110,
      "outputs": [
        {
          "output_type": "display_data",
          "data": {
            "image/png": "[encoded data removed]",
            "text/plain": [
              "<Figure size 1080x1080 with 1 Axes>"
            ]
          },
          "metadata": {
            "tags": [],
            "needs_background": "light"
          }
        }
      ]
    },
    {
      "cell_type": "markdown",
      "metadata": {
        "id": "s664tjyiR_8p"
      },
      "source": [
        "## Находим самые важные признаки (2 балла)\n",
        "\n"
      ]
    },
    {
      "cell_type": "markdown",
      "metadata": {
        "id": "QBXxIXMHR_8p"
      },
      "source": [
        "По построенному дереву  легко понять, какие признаки лучше всего помогли решить задачу. Часто это бывает нужно  не только  для сокращения размерности в данных, но и для лучшего понимания прикладной задачи. Например, Вы хотите понять, какие признаки стоит еще конструировать -- для этого нужно понимать, какие из текущих лучше всего работают в дереве. "
      ]
    },
    {
      "cell_type": "markdown",
      "metadata": {
        "id": "LEJZQX1VR_8p"
      },
      "source": [
        "Самый простой метод -- посчитать число сплитов, где использовался данные признак. Это не лучший вариант, так как по признаку который принимает всего 2 значения, но который почти точно разделяет выборку, число сплитов будет очень 1, но при этом признак сам очень хороший. \n",
        "В этом задании предлагается для каждого признака считать суммарный gain (в лекции обозначено как Q) при использовании этого признака в сплите. Тогда даже у очень хороших признаков с маленьким число сплитов это значение должно быть довольно высоким.  "
      ]
    },
    {
      "cell_type": "markdown",
      "metadata": {
        "id": "YY6R19KzR_8p"
      },
      "source": [
        "Реализовать это довольно просто: создаете словарь номер фичи : суммарный гейн и добавляете в нужную фичу каждый раз, когда используете ее при построении дерева. "
      ]
    },
    {
      "cell_type": "markdown",
      "metadata": {
        "id": "8SOpcJAvR_8p"
      },
      "source": [
        "Добавьте функционал, который определяет значения feature importance. Обучите дерево на датасете Speed Dating Data.\n",
        "Выведите 10 главных фичей по важности."
      ]
    },
    {
      "cell_type": "code",
      "metadata": {
        "collapsed": true,
        "id": "cjpIrZNYR_8p"
      },
      "source": [
        "my_clf = MyDecisionTreeClassifier(min_samples_split=my_samples_split, max_depth=my_depth, criterion=my_criterion)\n",
        "X_train, X_test, y_train, y_test = train_test_split(X, y, test_size=0.1)\n",
        "my_clf.fit(X_train, y_train)"
      ],
      "execution_count": null,
      "outputs": []
    },
    {
      "cell_type": "code",
      "metadata": {
        "colab": {
          "base_uri": "https://localhost:8080/"
        },
        "id": "I2JWO2dLf6Dm",
        "outputId": "2facdec4-da63-4fa3-dc43-21994630d4fc"
      },
      "source": [
        "features_importance = df.drop(['match'], axis = 1).columns.values\n",
        "feature_importance_idx = np.argsort(my_clf.get_feature_importance())[::-1]\n",
        "print(features_importance[feature_importance_idx[:10]])"
      ],
      "execution_count": 151,
      "outputs": [
        {
          "output_type": "stream",
          "text": [
            "['iid_f' 'income' 'career_c' 'attr2_1' 'sinc3_1' 'mn_sat' 'attr3_1' 'iid'\n",
            " 'amb2_1' 'shar1_1']\n"
          ],
          "name": "stdout"
        }
      ]
    },
    {
      "cell_type": "markdown",
      "metadata": {
        "id": "l_SVnT6uR_8p"
      },
      "source": [
        "## Фидбек (бесценно)"
      ]
    },
    {
      "cell_type": "markdown",
      "metadata": {
        "id": "8yFaT3yOR_8p"
      },
      "source": [
        "* Какие аспекты обучения деревьев решений Вам показались непонятными? Какое место стоит дополнительно объяснить?"
      ]
    },
    {
      "cell_type": "markdown",
      "metadata": {
        "id": "soCI5aorR_8p"
      },
      "source": [
        "### Ваш ответ здесь"
      ]
    },
    {
      "cell_type": "markdown",
      "metadata": {
        "id": "ciCmqwCVR_8p"
      },
      "source": [
        "* Здесь Вы можете оставить отзыв о этой домашней работе или о всем курсе."
      ]
    },
    {
      "cell_type": "markdown",
      "metadata": {
        "id": "vcz9gyCFR_8p"
      },
      "source": [
        "### ВАШ ОТЗЫВ ЗДЕСЬ\n",
        "\n"
      ]
    },
    {
      "cell_type": "code",
      "metadata": {
        "collapsed": true,
        "id": "2zvoCh1sR_8p"
      },
      "source": [
        ""
      ],
      "execution_count": null,
      "outputs": []
    },
    {
      "cell_type": "code",
      "metadata": {
        "collapsed": true,
        "id": "aNqfCgJnR_8p"
      },
      "source": [
        ""
      ],
      "execution_count": null,
      "outputs": []
    }
  ]
}